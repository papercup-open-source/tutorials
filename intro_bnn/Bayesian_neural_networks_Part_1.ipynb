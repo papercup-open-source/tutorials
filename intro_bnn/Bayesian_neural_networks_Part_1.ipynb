{
 "nbformat": 4,
 "nbformat_minor": 0,
 "metadata": {
  "colab": {
   "name": "Bayesian neural networks Part 1 - SLP",
   "provenance": [],
   "collapsed_sections": [],
   "toc_visible": true,
   "include_colab_link": true
  },
  "kernelspec": {
   "name": "python3",
   "language": "python",
   "display_name": "Python 3 (ipykernel)"
  },
  "accelerator": "GPU"
 },
 "cells": [
  {
   "cell_type": "markdown",
   "metadata": {
    "id": "view-in-github",
    "colab_type": "text"
   },
   "source": [
    "<a href=\"https://colab.research.google.com/github/papercup-open-source/tutorials/blob/master/intro_bnn/Bayesian_neural_networks_Part_1.ipynb\" target=\"_parent\"><img src=\"https://colab.research.google.com/assets/colab-badge.svg\" alt=\"Open In Colab\"/></a>"
   ]
  },
  {
   "cell_type": "markdown",
   "metadata": {
    "id": "GvUw8INNLV63",
    "colab_type": "text"
   },
   "source": [
    "# Disclaimer\n",
    "\n",
    "Much of this notebook is based on a lecture on neural networks by the late David Mackay, which can be found [here](https://www.youtube.com/watch?v=Z1pcTxvCOgw). The data and python examples below are adapted from the lecture and the original Octave code on his website."
   ]
  },
  {
   "cell_type": "markdown",
   "metadata": {
    "id": "FmW_6NjWNP8o",
    "colab_type": "text"
   },
   "source": [
    "# Set up\n",
    "\n",
    "Suppose you want to classify some data points, such as the ones shown in the diagram below. Let $\\mathbf{x}$ be the location of the data points (and the inputs to our neural net), $t$ be the class of these points, and let's use the letter $D$ to represent the entire dataset of $N$ points.\n",
    "\n",
    "$$\n",
    "\\begin{aligned}\n",
    "  D &= \\{\\mathbf{x}_n, t_n\\}_{n=1}^N \\\\\n",
    "t_n &\\in \\{0, 1\\}\n",
    "\\end{aligned}\n",
    "$$"
   ]
  },
  {
   "cell_type": "code",
   "metadata": {
    "id": "iCB0EZZ2NIBg",
    "colab_type": "code",
    "colab": {},
    "ExecuteTime": {
     "start_time": "2023-04-20T11:25:21.233906Z",
     "end_time": "2023-04-20T11:25:21.619972Z"
    }
   },
   "source": [
    "%matplotlib inline\n",
    "\n",
    "import matplotlib\n",
    "import matplotlib.cm as cm\n",
    "import matplotlib.pyplot as plt\n",
    "plt.style.use('ggplot')\n",
    "\n",
    "import jax\n",
    "import jax.numpy as np\n",
    "from jax import random\n",
    "from jax import jit, grad\n",
    "from jax import vmap\n",
    "from functools import partial\n",
    "\n",
    "from IPython.display import HTML\n",
    "from matplotlib.animation import FuncAnimation\n",
    "\n",
    "key = random.PRNGKey(0)"
   ],
   "execution_count": 24,
   "outputs": []
  },
  {
   "cell_type": "code",
   "metadata": {
    "id": "9Y7vZuPLPBoU",
    "colab_type": "code",
    "colab": {},
    "ExecuteTime": {
     "start_time": "2023-04-20T11:25:21.297556Z",
     "end_time": "2023-04-20T11:25:21.674641Z"
    }
   },
   "source": [
    "key, subkey = random.split(key)\n",
    "\n",
    "x_range = np.linspace(0, 10, 100)\n",
    "y_range = np.linspace(0, 10, 100)\n",
    "Zd = np.stack((\n",
    "    np.expand_dims(x_range, axis=1).repeat(100, axis=1),\n",
    "    np.expand_dims(y_range, axis=0).repeat(100, axis=0),\n",
    "    np.ones((100, 100)),\n",
    "), axis=2)"
   ],
   "execution_count": 25,
   "outputs": []
  },
  {
   "cell_type": "code",
   "metadata": {
    "id": "1idsceQZhacG",
    "colab_type": "code",
    "colab": {},
    "ExecuteTime": {
     "start_time": "2023-04-20T11:25:21.594158Z",
     "end_time": "2023-04-20T11:25:21.674866Z"
    }
   },
   "source": [
    "def plot_fns_and_weights(fns, weights, idx):\n",
    "  x_range = np.linspace(0, 10, 100)\n",
    "  y_range = np.linspace(0, 10, 100)\n",
    "  fig, (ax2, ax3) = plt.subplots(1, 2, figsize=(12, 6))\n",
    "\n",
    "  # Plot weight values on x1 and x2\n",
    "  ax2.set(xlim=(-1, 5), ylim=(-1, 5))\n",
    "  ax2.scatter(weights[:, 0], weights[:, 1])\n",
    "  ax2.set_xlabel('$w_1$')\n",
    "  ax2.set_ylabel('$w_2$')\n",
    "\n",
    "  # Plot the weights values as training continues\n",
    "  ax3.plot(weights[:, 0])\n",
    "  ax3.plot(weights[:, 1])\n",
    "  ax3.plot(weights[:, 2])\n",
    "  ax3.set_xlabel('Step')\n",
    "  ax3.set_ylabel('$|w_i|$')\n",
    "\n",
    "  # Animation\n",
    "  fig, ax = plt.subplots(figsize=(6, 6))\n",
    "  plt.close()\n",
    "  ax.set(xlim=(0, 10), ylim=(0, 10))\n",
    "\n",
    "  ax.scatter(D1[:, 0], D1[:, 1])\n",
    "  ax.scatter(D2[:, 0], D2[:, 1])\n",
    "  ax.set_xlabel('$x_1$')\n",
    "  ax.set_ylabel('$x_2$')\n",
    "  ax.set_title(\"Step: {}\".format(0))\n",
    "  cont = ax.contour(x_range, y_range, fns[0], origin='lower', cmap=cm.viridis, vmin=0, vmax=1)\n",
    "\n",
    "  def animate(i):\n",
    "      ax.cla()\n",
    "      ax.scatter(D1[:, 0], D1[:, 1])\n",
    "      ax.scatter(D2[:, 0], D2[:, 1])\n",
    "      ax.set_xlabel('$x_1$')\n",
    "      ax.set_ylabel('$x_2$')\n",
    "      ax.set_title(\"Step: {}\".format(idx[i]))\n",
    "      ax.contour(x_range, y_range, fns[i], vmin=0, vmax=1)\n",
    "\n",
    "  anim = FuncAnimation(fig, animate, interval=200, frames=len(idx))\n",
    "  return anim"
   ],
   "execution_count": 26,
   "outputs": []
  },
  {
   "cell_type": "code",
   "metadata": {
    "id": "d-f2rHjfTvg9",
    "colab_type": "code",
    "outputId": "7ddb6823-77ab-4e5d-e9a3-4cef5c9b70c9",
    "colab": {
     "base_uri": "https://localhost:8080/",
     "height": 412
    },
    "ExecuteTime": {
     "start_time": "2023-04-20T11:25:21.594239Z",
     "end_time": "2023-04-20T11:25:21.868725Z"
    }
   },
   "source": [
    "D1 = np.array([\n",
    "    (7, 4),\n",
    "    (5, 6),\n",
    "    (8, 6),\n",
    "    (9.5, 5),\n",
    "    (9, 7),\n",
    "])\n",
    "D2 = np.array([\n",
    "    (2, 3),\n",
    "    (3, 2),\n",
    "    (3, 6),\n",
    "    (5.5, 4.5),\n",
    "    (5, 3),\n",
    "])\n",
    "\n",
    "D_tmp = np.concatenate((D1, D2), axis=0)\n",
    "D = np.concatenate((D_tmp, np.ones((10, 1))), axis=1)\n",
    "t = np.concatenate((np.array([1.]*5), np.array([0.]*5)))\n",
    "\n",
    "fig, ax = plt.subplots(figsize=(6, 6))\n",
    "ax.scatter(D1[:, 0], D1[:, 1])\n",
    "ax.scatter(D2[:, 0], D2[:, 1])\n",
    "ax.set_xlabel('$x_1$')\n",
    "ax.set_ylabel('$x_2$')\n",
    "ax.set(xlim=(0, 10), ylim=(0, 10))"
   ],
   "execution_count": 27,
   "outputs": [
    {
     "data": {
      "text/plain": "[(0.0, 10.0), (0.0, 10.0)]"
     },
     "execution_count": 27,
     "metadata": {},
     "output_type": "execute_result"
    },
    {
     "data": {
      "text/plain": "<Figure size 600x600 with 1 Axes>",
      "image/png": "[encoded data removed]"
     },
     "metadata": {},
     "output_type": "display_data"
    }
   ]
  },
  {
   "cell_type": "code",
   "metadata": {
    "id": "hVdJnjSEUmTc",
    "colab_type": "code",
    "colab": {},
    "ExecuteTime": {
     "start_time": "2023-04-20T11:25:21.871823Z",
     "end_time": "2023-04-20T11:25:21.926147Z"
    }
   },
   "source": [
    "@jit\n",
    "def sigmoid(x):\n",
    "    return 1. / (1. + np.exp(-x))\n",
    "\n",
    "@jit\n",
    "def bce_loss(W, D, t):\n",
    "    a = np.dot(D, W)\n",
    "    y = sigmoid(a)\n",
    "    error = (- t * np.log(y) - (1 - t) * np.log(1 - y)).sum()\n",
    "\n",
    "    return error\n",
    "\n",
    "@jit\n",
    "def regularization_loss(W):\n",
    "   return 0.5 * (W.dot(W)).sum()"
   ],
   "execution_count": 28,
   "outputs": []
  },
  {
   "cell_type": "markdown",
   "metadata": {
    "id": "tYA_siSEgrRl",
    "colab_type": "text"
   },
   "source": [
    "# Neural nets - Prior Experience\n",
    "\n",
    "Let's use a simple single-layer perceptron as our classifier, with three weights: $w_1$, $w_2$ and $w_3$ for $x_1$, $x_2$ and the bias, respectively, and a sigmoid activation function $\\sigma()$ to obtain an estimate of the class probability. We make the assumption here that the neural net model we use is powerful enough to generate the dataset.\n",
    "\n",
    "$$\n",
    "\\begin{aligned}\n",
    "P(t_{N+1} = 1 | \\mathbf{x}_{N+1}, \\mathbf{w}, D) &= f_{\\text{nn}}(\\mathbf{x}_{N+1}; \\mathbf{w}) \\\\\n",
    "                                                 &= \\sigma(\\mathbf{x}^T \\mathbf{w})\n",
    "\\end{aligned}\n",
    "$$"
   ]
  },
  {
   "cell_type": "markdown",
   "metadata": {
    "id": "1xwaO--zwdYv",
    "colab_type": "text"
   },
   "source": [
    "### Maximum Likelihood training\n",
    "\n",
    "In maximum likelihood training, we adjust the weight parameters $\\mathbf{w}$ of our neural net classifier to maximise the likelihood of the data given the parameters, and we use it to make predictions on new data points. So let's by defining our loss function $\\ell(\\mathbf{w})$ to be $G(\\mathbf{w})$ - the negative log-likelihood, which in this case is the binary cross entropy:\n",
    "\n",
    "$$\n",
    "\\begin{aligned}\n",
    "\\ell(\\mathbf{w}) = G(\\mathbf{w}) &= - \\log( P(D|\\mathbf{w}) ) \\\\\n",
    "                                 &= \\sum_{n=1}^N - t_n \\log(y_n) - (1 -t_n)\\log(1-y_n) \\\\\n",
    "           \\text{s.t.} \\quad y_n &= f_{\\text{nn}}(\\mathbf{x}_n; \\mathbf{w})\n",
    "\\end{aligned}\n",
    "$$\n",
    "\n",
    "If we run batch gradient descent for some time, the classifier function settles into a state where the decision boundary is sharply in the middle between the two classes of data points."
   ]
  },
  {
   "cell_type": "code",
   "metadata": {
    "id": "R9hIb6aqV67G",
    "colab_type": "code",
    "colab": {},
    "ExecuteTime": {
     "start_time": "2023-04-20T11:25:21.918108Z",
     "end_time": "2023-04-20T11:25:24.511042Z"
    }
   },
   "source": [
    "eta = 0.02\n",
    "W = random.normal(key, (3,)) * 0.25\n",
    "idx = []\n",
    "fns = []\n",
    "weights = []\n",
    "\n",
    "@jit\n",
    "def step(W, D, t, eta=0.02):\n",
    "  dW = grad(bce_loss)(W, D, t)\n",
    "  W = W - eta * dW\n",
    "\n",
    "  return W\n",
    "\n",
    "for k in range(20001):\n",
    "  # Calculate and save for contour lines\n",
    "  if (k % 1000 == 0) or (k <= 1000 and k % 100 == 0):\n",
    "    idx.append(k)\n",
    "    a = np.dot(Zd, W)\n",
    "    y = sigmoid(a)\n",
    "    fns.append(y)\n",
    "\n",
    "  W = step(W, D, t, eta=eta)\n",
    "\n",
    "  weights.append(W)\n",
    "\n",
    "fns = np.array(fns)\n",
    "weights = np.array(weights)"
   ],
   "execution_count": 29,
   "outputs": []
  },
  {
   "cell_type": "code",
   "metadata": {
    "id": "ff9fdlNmHbc5",
    "colab_type": "code",
    "outputId": "9374f434-6927-4f06-a6f8-6e5f23cdf387",
    "colab": {
     "base_uri": "https://localhost:8080/",
     "height": 831
    }
   },
   "source": [
    "anim = plot_fns_and_weights(fns, weights, idx)\n",
    "HTML(anim.to_html5_video())"
   ],
   "execution_count": 30,
   "outputs": [
    {
     "name": "stderr",
     "output_type": "stream",
     "text": [
      "WARNING:matplotlib.animation:MovieWriter stderr:\n",
      "[libopenh264 @ 0x559e45576300] Incorrect library version loaded\n",
      "Error initializing output stream 0:0 -- Error while opening encoder for output stream #0:0 - maybe incorrect parameters such as bit_rate, rate, width or height\n",
      "\n"
     ]
    },
    {
     "ename": "CalledProcessError",
     "evalue": "Command '['ffmpeg', '-f', 'rawvideo', '-vcodec', 'rawvideo', '-s', '600x600', '-pix_fmt', 'rgba', '-r', '5.0', '-loglevel', 'error', '-i', 'pipe:', '-vcodec', 'h264', '-pix_fmt', 'yuv420p', '-y', '/tmp/tmps2a0ueeh/temp.m4v']' returned non-zero exit status 1.",
     "output_type": "error",
     "traceback": [
      "\u001B[0;31m---------------------------------------------------------------------------\u001B[0m",
      "\u001B[0;31mBrokenPipeError\u001B[0m                           Traceback (most recent call last)",
      "File \u001B[0;32m~/anaconda3/envs/normalizing_flow/lib/python3.8/site-packages/matplotlib/animation.py:233\u001B[0m, in \u001B[0;36mAbstractMovieWriter.saving\u001B[0;34m(self, fig, outfile, dpi, *args, **kwargs)\u001B[0m\n\u001B[1;32m    232\u001B[0m \u001B[38;5;28;01mtry\u001B[39;00m:\n\u001B[0;32m--> 233\u001B[0m     \u001B[38;5;28;01myield\u001B[39;00m \u001B[38;5;28mself\u001B[39m\n\u001B[1;32m    234\u001B[0m \u001B[38;5;28;01mfinally\u001B[39;00m:\n",
      "File \u001B[0;32m~/anaconda3/envs/normalizing_flow/lib/python3.8/site-packages/matplotlib/animation.py:1107\u001B[0m, in \u001B[0;36mAnimation.save\u001B[0;34m(self, filename, writer, fps, dpi, codec, bitrate, extra_args, metadata, extra_anim, savefig_kwargs, progress_callback)\u001B[0m\n\u001B[1;32m   1106\u001B[0m         frame_number \u001B[38;5;241m+\u001B[39m\u001B[38;5;241m=\u001B[39m \u001B[38;5;241m1\u001B[39m\n\u001B[0;32m-> 1107\u001B[0m \u001B[43mwriter\u001B[49m\u001B[38;5;241;43m.\u001B[39;49m\u001B[43mgrab_frame\u001B[49m\u001B[43m(\u001B[49m\u001B[38;5;241;43m*\u001B[39;49m\u001B[38;5;241;43m*\u001B[39;49m\u001B[43msavefig_kwargs\u001B[49m\u001B[43m)\u001B[49m\n",
      "File \u001B[0;32m~/anaconda3/envs/normalizing_flow/lib/python3.8/site-packages/matplotlib/animation.py:359\u001B[0m, in \u001B[0;36mMovieWriter.grab_frame\u001B[0;34m(self, **savefig_kwargs)\u001B[0m\n\u001B[1;32m    358\u001B[0m \u001B[38;5;66;03m# Save the figure data to the sink, using the frame format and dpi.\u001B[39;00m\n\u001B[0;32m--> 359\u001B[0m \u001B[38;5;28;43mself\u001B[39;49m\u001B[38;5;241;43m.\u001B[39;49m\u001B[43mfig\u001B[49m\u001B[38;5;241;43m.\u001B[39;49m\u001B[43msavefig\u001B[49m\u001B[43m(\u001B[49m\u001B[38;5;28;43mself\u001B[39;49m\u001B[38;5;241;43m.\u001B[39;49m\u001B[43m_proc\u001B[49m\u001B[38;5;241;43m.\u001B[39;49m\u001B[43mstdin\u001B[49m\u001B[43m,\u001B[49m\u001B[43m \u001B[49m\u001B[38;5;28;43mformat\u001B[39;49m\u001B[38;5;241;43m=\u001B[39;49m\u001B[38;5;28;43mself\u001B[39;49m\u001B[38;5;241;43m.\u001B[39;49m\u001B[43mframe_format\u001B[49m\u001B[43m,\u001B[49m\n\u001B[1;32m    360\u001B[0m \u001B[43m                 \u001B[49m\u001B[43mdpi\u001B[49m\u001B[38;5;241;43m=\u001B[39;49m\u001B[38;5;28;43mself\u001B[39;49m\u001B[38;5;241;43m.\u001B[39;49m\u001B[43mdpi\u001B[49m\u001B[43m,\u001B[49m\u001B[43m \u001B[49m\u001B[38;5;241;43m*\u001B[39;49m\u001B[38;5;241;43m*\u001B[39;49m\u001B[43msavefig_kwargs\u001B[49m\u001B[43m)\u001B[49m\n",
      "File \u001B[0;32m~/anaconda3/envs/normalizing_flow/lib/python3.8/site-packages/matplotlib/figure.py:3343\u001B[0m, in \u001B[0;36mFigure.savefig\u001B[0;34m(self, fname, transparent, **kwargs)\u001B[0m\n\u001B[1;32m   3340\u001B[0m         stack\u001B[38;5;241m.\u001B[39menter_context(\n\u001B[1;32m   3341\u001B[0m             ax\u001B[38;5;241m.\u001B[39mpatch\u001B[38;5;241m.\u001B[39m_cm_set(facecolor\u001B[38;5;241m=\u001B[39m\u001B[38;5;124m'\u001B[39m\u001B[38;5;124mnone\u001B[39m\u001B[38;5;124m'\u001B[39m, edgecolor\u001B[38;5;241m=\u001B[39m\u001B[38;5;124m'\u001B[39m\u001B[38;5;124mnone\u001B[39m\u001B[38;5;124m'\u001B[39m))\n\u001B[0;32m-> 3343\u001B[0m \u001B[38;5;28;43mself\u001B[39;49m\u001B[38;5;241;43m.\u001B[39;49m\u001B[43mcanvas\u001B[49m\u001B[38;5;241;43m.\u001B[39;49m\u001B[43mprint_figure\u001B[49m\u001B[43m(\u001B[49m\u001B[43mfname\u001B[49m\u001B[43m,\u001B[49m\u001B[43m \u001B[49m\u001B[38;5;241;43m*\u001B[39;49m\u001B[38;5;241;43m*\u001B[39;49m\u001B[43mkwargs\u001B[49m\u001B[43m)\u001B[49m\n",
      "File \u001B[0;32m~/anaconda3/envs/normalizing_flow/lib/python3.8/site-packages/matplotlib/backend_bases.py:2366\u001B[0m, in \u001B[0;36mFigureCanvasBase.print_figure\u001B[0;34m(self, filename, dpi, facecolor, edgecolor, orientation, format, bbox_inches, pad_inches, bbox_extra_artists, backend, **kwargs)\u001B[0m\n\u001B[1;32m   2365\u001B[0m     \u001B[38;5;28;01mwith\u001B[39;00m cbook\u001B[38;5;241m.\u001B[39m_setattr_cm(\u001B[38;5;28mself\u001B[39m\u001B[38;5;241m.\u001B[39mfigure, dpi\u001B[38;5;241m=\u001B[39mdpi):\n\u001B[0;32m-> 2366\u001B[0m         result \u001B[38;5;241m=\u001B[39m \u001B[43mprint_method\u001B[49m\u001B[43m(\u001B[49m\n\u001B[1;32m   2367\u001B[0m \u001B[43m            \u001B[49m\u001B[43mfilename\u001B[49m\u001B[43m,\u001B[49m\n\u001B[1;32m   2368\u001B[0m \u001B[43m            \u001B[49m\u001B[43mfacecolor\u001B[49m\u001B[38;5;241;43m=\u001B[39;49m\u001B[43mfacecolor\u001B[49m\u001B[43m,\u001B[49m\n\u001B[1;32m   2369\u001B[0m \u001B[43m            \u001B[49m\u001B[43medgecolor\u001B[49m\u001B[38;5;241;43m=\u001B[39;49m\u001B[43medgecolor\u001B[49m\u001B[43m,\u001B[49m\n\u001B[1;32m   2370\u001B[0m \u001B[43m            \u001B[49m\u001B[43morientation\u001B[49m\u001B[38;5;241;43m=\u001B[39;49m\u001B[43morientation\u001B[49m\u001B[43m,\u001B[49m\n\u001B[1;32m   2371\u001B[0m \u001B[43m            \u001B[49m\u001B[43mbbox_inches_restore\u001B[49m\u001B[38;5;241;43m=\u001B[39;49m\u001B[43m_bbox_inches_restore\u001B[49m\u001B[43m,\u001B[49m\n\u001B[1;32m   2372\u001B[0m \u001B[43m            \u001B[49m\u001B[38;5;241;43m*\u001B[39;49m\u001B[38;5;241;43m*\u001B[39;49m\u001B[43mkwargs\u001B[49m\u001B[43m)\u001B[49m\n\u001B[1;32m   2373\u001B[0m \u001B[38;5;28;01mfinally\u001B[39;00m:\n",
      "File \u001B[0;32m~/anaconda3/envs/normalizing_flow/lib/python3.8/site-packages/matplotlib/backend_bases.py:2232\u001B[0m, in \u001B[0;36mFigureCanvasBase._switch_canvas_and_return_print_method.<locals>.<lambda>\u001B[0;34m(*args, **kwargs)\u001B[0m\n\u001B[1;32m   2231\u001B[0m     skip \u001B[38;5;241m=\u001B[39m optional_kws \u001B[38;5;241m-\u001B[39m {\u001B[38;5;241m*\u001B[39minspect\u001B[38;5;241m.\u001B[39msignature(meth)\u001B[38;5;241m.\u001B[39mparameters}\n\u001B[0;32m-> 2232\u001B[0m     print_method \u001B[38;5;241m=\u001B[39m functools\u001B[38;5;241m.\u001B[39mwraps(meth)(\u001B[38;5;28;01mlambda\u001B[39;00m \u001B[38;5;241m*\u001B[39margs, \u001B[38;5;241m*\u001B[39m\u001B[38;5;241m*\u001B[39mkwargs: \u001B[43mmeth\u001B[49m\u001B[43m(\u001B[49m\n\u001B[1;32m   2233\u001B[0m \u001B[43m        \u001B[49m\u001B[38;5;241;43m*\u001B[39;49m\u001B[43margs\u001B[49m\u001B[43m,\u001B[49m\u001B[43m \u001B[49m\u001B[38;5;241;43m*\u001B[39;49m\u001B[38;5;241;43m*\u001B[39;49m\u001B[43m{\u001B[49m\u001B[43mk\u001B[49m\u001B[43m:\u001B[49m\u001B[43m \u001B[49m\u001B[43mv\u001B[49m\u001B[43m \u001B[49m\u001B[38;5;28;43;01mfor\u001B[39;49;00m\u001B[43m \u001B[49m\u001B[43mk\u001B[49m\u001B[43m,\u001B[49m\u001B[43m \u001B[49m\u001B[43mv\u001B[49m\u001B[43m \u001B[49m\u001B[38;5;129;43;01min\u001B[39;49;00m\u001B[43m \u001B[49m\u001B[43mkwargs\u001B[49m\u001B[38;5;241;43m.\u001B[39;49m\u001B[43mitems\u001B[49m\u001B[43m(\u001B[49m\u001B[43m)\u001B[49m\u001B[43m \u001B[49m\u001B[38;5;28;43;01mif\u001B[39;49;00m\u001B[43m \u001B[49m\u001B[43mk\u001B[49m\u001B[43m \u001B[49m\u001B[38;5;129;43;01mnot\u001B[39;49;00m\u001B[43m \u001B[49m\u001B[38;5;129;43;01min\u001B[39;49;00m\u001B[43m \u001B[49m\u001B[43mskip\u001B[49m\u001B[43m}\u001B[49m\u001B[43m)\u001B[49m)\n\u001B[1;32m   2234\u001B[0m \u001B[38;5;28;01melse\u001B[39;00m:  \u001B[38;5;66;03m# Let third-parties do as they see fit.\u001B[39;00m\n",
      "File \u001B[0;32m~/anaconda3/envs/normalizing_flow/lib/python3.8/site-packages/matplotlib/backends/backend_agg.py:448\u001B[0m, in \u001B[0;36mFigureCanvasAgg.print_raw\u001B[0;34m(self, filename_or_obj)\u001B[0m\n\u001B[1;32m    447\u001B[0m \u001B[38;5;28;01mwith\u001B[39;00m cbook\u001B[38;5;241m.\u001B[39mopen_file_cm(filename_or_obj, \u001B[38;5;124m\"\u001B[39m\u001B[38;5;124mwb\u001B[39m\u001B[38;5;124m\"\u001B[39m) \u001B[38;5;28;01mas\u001B[39;00m fh:\n\u001B[0;32m--> 448\u001B[0m     \u001B[43mfh\u001B[49m\u001B[38;5;241;43m.\u001B[39;49m\u001B[43mwrite\u001B[49m\u001B[43m(\u001B[49m\u001B[43mrenderer\u001B[49m\u001B[38;5;241;43m.\u001B[39;49m\u001B[43mbuffer_rgba\u001B[49m\u001B[43m(\u001B[49m\u001B[43m)\u001B[49m\u001B[43m)\u001B[49m\n",
      "\u001B[0;31mBrokenPipeError\u001B[0m: [Errno 32] Broken pipe",
      "\nDuring handling of the above exception, another exception occurred:\n",
      "\u001B[0;31mCalledProcessError\u001B[0m                        Traceback (most recent call last)",
      "Cell \u001B[0;32mIn[30], line 2\u001B[0m\n\u001B[1;32m      1\u001B[0m anim \u001B[38;5;241m=\u001B[39m plot_fns_and_weights(fns, weights, idx)\n\u001B[0;32m----> 2\u001B[0m HTML(\u001B[43manim\u001B[49m\u001B[38;5;241;43m.\u001B[39;49m\u001B[43mto_html5_video\u001B[49m\u001B[43m(\u001B[49m\u001B[43m)\u001B[49m)\n",
      "File \u001B[0;32m~/anaconda3/envs/normalizing_flow/lib/python3.8/site-packages/matplotlib/animation.py:1288\u001B[0m, in \u001B[0;36mAnimation.to_html5_video\u001B[0;34m(self, embed_limit)\u001B[0m\n\u001B[1;32m   1284\u001B[0m Writer \u001B[38;5;241m=\u001B[39m writers[mpl\u001B[38;5;241m.\u001B[39mrcParams[\u001B[38;5;124m'\u001B[39m\u001B[38;5;124manimation.writer\u001B[39m\u001B[38;5;124m'\u001B[39m]]\n\u001B[1;32m   1285\u001B[0m writer \u001B[38;5;241m=\u001B[39m Writer(codec\u001B[38;5;241m=\u001B[39m\u001B[38;5;124m'\u001B[39m\u001B[38;5;124mh264\u001B[39m\u001B[38;5;124m'\u001B[39m,\n\u001B[1;32m   1286\u001B[0m                 bitrate\u001B[38;5;241m=\u001B[39mmpl\u001B[38;5;241m.\u001B[39mrcParams[\u001B[38;5;124m'\u001B[39m\u001B[38;5;124manimation.bitrate\u001B[39m\u001B[38;5;124m'\u001B[39m],\n\u001B[1;32m   1287\u001B[0m                 fps\u001B[38;5;241m=\u001B[39m\u001B[38;5;241m1000.\u001B[39m \u001B[38;5;241m/\u001B[39m \u001B[38;5;28mself\u001B[39m\u001B[38;5;241m.\u001B[39m_interval)\n\u001B[0;32m-> 1288\u001B[0m \u001B[38;5;28;43mself\u001B[39;49m\u001B[38;5;241;43m.\u001B[39;49m\u001B[43msave\u001B[49m\u001B[43m(\u001B[49m\u001B[38;5;28;43mstr\u001B[39;49m\u001B[43m(\u001B[49m\u001B[43mpath\u001B[49m\u001B[43m)\u001B[49m\u001B[43m,\u001B[49m\u001B[43m \u001B[49m\u001B[43mwriter\u001B[49m\u001B[38;5;241;43m=\u001B[39;49m\u001B[43mwriter\u001B[49m\u001B[43m)\u001B[49m\n\u001B[1;32m   1289\u001B[0m \u001B[38;5;66;03m# Now open and base64 encode.\u001B[39;00m\n\u001B[1;32m   1290\u001B[0m vid64 \u001B[38;5;241m=\u001B[39m base64\u001B[38;5;241m.\u001B[39mencodebytes(path\u001B[38;5;241m.\u001B[39mread_bytes())\n",
      "File \u001B[0;32m~/anaconda3/envs/normalizing_flow/lib/python3.8/site-packages/matplotlib/animation.py:1107\u001B[0m, in \u001B[0;36mAnimation.save\u001B[0;34m(self, filename, writer, fps, dpi, codec, bitrate, extra_args, metadata, extra_anim, savefig_kwargs, progress_callback)\u001B[0m\n\u001B[1;32m   1105\u001B[0m         progress_callback(frame_number, total_frames)\n\u001B[1;32m   1106\u001B[0m         frame_number \u001B[38;5;241m+\u001B[39m\u001B[38;5;241m=\u001B[39m \u001B[38;5;241m1\u001B[39m\n\u001B[0;32m-> 1107\u001B[0m writer\u001B[38;5;241m.\u001B[39mgrab_frame(\u001B[38;5;241m*\u001B[39m\u001B[38;5;241m*\u001B[39msavefig_kwargs)\n",
      "File \u001B[0;32m~/anaconda3/envs/normalizing_flow/lib/python3.8/contextlib.py:131\u001B[0m, in \u001B[0;36m_GeneratorContextManager.__exit__\u001B[0;34m(self, type, value, traceback)\u001B[0m\n\u001B[1;32m    129\u001B[0m     value \u001B[38;5;241m=\u001B[39m \u001B[38;5;28mtype\u001B[39m()\n\u001B[1;32m    130\u001B[0m \u001B[38;5;28;01mtry\u001B[39;00m:\n\u001B[0;32m--> 131\u001B[0m     \u001B[38;5;28;43mself\u001B[39;49m\u001B[38;5;241;43m.\u001B[39;49m\u001B[43mgen\u001B[49m\u001B[38;5;241;43m.\u001B[39;49m\u001B[43mthrow\u001B[49m\u001B[43m(\u001B[49m\u001B[38;5;28;43mtype\u001B[39;49m\u001B[43m,\u001B[49m\u001B[43m \u001B[49m\u001B[43mvalue\u001B[49m\u001B[43m,\u001B[49m\u001B[43m \u001B[49m\u001B[43mtraceback\u001B[49m\u001B[43m)\u001B[49m\n\u001B[1;32m    132\u001B[0m \u001B[38;5;28;01mexcept\u001B[39;00m \u001B[38;5;167;01mStopIteration\u001B[39;00m \u001B[38;5;28;01mas\u001B[39;00m exc:\n\u001B[1;32m    133\u001B[0m     \u001B[38;5;66;03m# Suppress StopIteration *unless* it's the same exception that\u001B[39;00m\n\u001B[1;32m    134\u001B[0m     \u001B[38;5;66;03m# was passed to throw().  This prevents a StopIteration\u001B[39;00m\n\u001B[1;32m    135\u001B[0m     \u001B[38;5;66;03m# raised inside the \"with\" statement from being suppressed.\u001B[39;00m\n\u001B[1;32m    136\u001B[0m     \u001B[38;5;28;01mreturn\u001B[39;00m exc \u001B[38;5;129;01mis\u001B[39;00m \u001B[38;5;129;01mnot\u001B[39;00m value\n",
      "File \u001B[0;32m~/anaconda3/envs/normalizing_flow/lib/python3.8/site-packages/matplotlib/animation.py:235\u001B[0m, in \u001B[0;36mAbstractMovieWriter.saving\u001B[0;34m(self, fig, outfile, dpi, *args, **kwargs)\u001B[0m\n\u001B[1;32m    233\u001B[0m     \u001B[38;5;28;01myield\u001B[39;00m \u001B[38;5;28mself\u001B[39m\n\u001B[1;32m    234\u001B[0m \u001B[38;5;28;01mfinally\u001B[39;00m:\n\u001B[0;32m--> 235\u001B[0m     \u001B[38;5;28;43mself\u001B[39;49m\u001B[38;5;241;43m.\u001B[39;49m\u001B[43mfinish\u001B[49m\u001B[43m(\u001B[49m\u001B[43m)\u001B[49m\n",
      "File \u001B[0;32m~/anaconda3/envs/normalizing_flow/lib/python3.8/site-packages/matplotlib/animation.py:349\u001B[0m, in \u001B[0;36mMovieWriter.finish\u001B[0;34m(self)\u001B[0m\n\u001B[1;32m    345\u001B[0m     _log\u001B[38;5;241m.\u001B[39mlog(\n\u001B[1;32m    346\u001B[0m         logging\u001B[38;5;241m.\u001B[39mWARNING \u001B[38;5;28;01mif\u001B[39;00m \u001B[38;5;28mself\u001B[39m\u001B[38;5;241m.\u001B[39m_proc\u001B[38;5;241m.\u001B[39mreturncode \u001B[38;5;28;01melse\u001B[39;00m logging\u001B[38;5;241m.\u001B[39mDEBUG,\n\u001B[1;32m    347\u001B[0m         \u001B[38;5;124m\"\u001B[39m\u001B[38;5;124mMovieWriter stderr:\u001B[39m\u001B[38;5;130;01m\\n\u001B[39;00m\u001B[38;5;132;01m%s\u001B[39;00m\u001B[38;5;124m\"\u001B[39m, err)\n\u001B[1;32m    348\u001B[0m \u001B[38;5;28;01mif\u001B[39;00m \u001B[38;5;28mself\u001B[39m\u001B[38;5;241m.\u001B[39m_proc\u001B[38;5;241m.\u001B[39mreturncode:\n\u001B[0;32m--> 349\u001B[0m     \u001B[38;5;28;01mraise\u001B[39;00m subprocess\u001B[38;5;241m.\u001B[39mCalledProcessError(\n\u001B[1;32m    350\u001B[0m         \u001B[38;5;28mself\u001B[39m\u001B[38;5;241m.\u001B[39m_proc\u001B[38;5;241m.\u001B[39mreturncode, \u001B[38;5;28mself\u001B[39m\u001B[38;5;241m.\u001B[39m_proc\u001B[38;5;241m.\u001B[39margs, out, err)\n",
      "\u001B[0;31mCalledProcessError\u001B[0m: Command '['ffmpeg', '-f', 'rawvideo', '-vcodec', 'rawvideo', '-s', '600x600', '-pix_fmt', 'rgba', '-r', '5.0', '-loglevel', 'error', '-i', 'pipe:', '-vcodec', 'h264', '-pix_fmt', 'yuv420p', '-y', '/tmp/tmps2a0ueeh/temp.m4v']' returned non-zero exit status 1."
     ]
    },
    {
     "data": {
      "text/plain": "<Figure size 1200x600 with 2 Axes>",
      "image/png": "[encoded data removed]"
     },
     "metadata": {},
     "output_type": "display_data"
    }
   ]
  },
  {
   "cell_type": "markdown",
   "metadata": {
    "id": "SYdQtQsRML51",
    "colab_type": "text"
   },
   "source": [
    "### Add in a regulariser\n",
    "\n",
    "Now, as David says in his lecture, you may well find the harshness of this classifier a little concerning, so we can introduce an additional penalty to our loss called \"weight decay\" or a \"regulariser\", where we penalise the entire weight vector against having a large $L_2$-norm. If we call this regularisation term $E(\\mathbf{w})$, controlled by a hyper-parameter $\\alpha$, it means our new loss function becomes:\n",
    "\n",
    "$$\n",
    "\\begin{aligned}\n",
    "                                  E(\\mathbf{w}) &= \\frac{1}{2} \\|\\mathbf{w}\\|_2^2 \\\\\n",
    "                 \\text{let} \\quad M(\\mathbf{w}) &= G(\\mathbf{w}) + \\alpha E(\\mathbf{w}) \\\\\n",
    "\\text{s.t.} \\quad \\ell_{\\text{new}}(\\mathbf{w}) &= M(\\mathbf{w}) \\\\\n",
    "                                                &= \\sum_n -t_n \\log(y_n) - (1 -t_n)\\log(1-y_n) + \\alpha \\, \\frac{1}{2}\\|\\mathbf{w}\\|_2^2\n",
    "\\end{aligned}\n",
    "$$\n",
    "\n",
    "With this new loss function, we're able to train our model with more regularisation that is controlled by a hyper-parameter $\\alpha$, where larger values of $\\alpha$ give us smoother decision boundaries after training."
   ]
  },
  {
   "cell_type": "code",
   "metadata": {
    "id": "QQh3SUP-myGx",
    "colab_type": "code",
    "colab": {},
    "ExecuteTime": {
     "start_time": "2023-04-20T11:25:52.810073Z",
     "end_time": "2023-04-20T11:25:54.285178Z"
    }
   },
   "source": [
    "eta = 0.02\n",
    "alpha = 0.01\n",
    "W = random.normal(key, (3,)) * 0.25\n",
    "idx = []\n",
    "fns = []\n",
    "weights = []\n",
    "\n",
    "@jit\n",
    "def loss(W, D, t, alpha):\n",
    "  return bce_loss(W, D, t) + alpha * regularization_loss(W)\n",
    "\n",
    "@jit\n",
    "def step(W, D, t, eta=0.02, alpha=0.01):\n",
    "  dW = grad(loss)(W, D, t, alpha)\n",
    "  W = W - eta * dW\n",
    "\n",
    "  return W\n",
    "\n",
    "for k in range(10001):\n",
    "  # Calculate and save for contour lines\n",
    "  if (k % 1000 == 0) or (k <= 1000 and k % 100 == 0):\n",
    "    idx.append(k)\n",
    "    a = np.dot(Zd, W)\n",
    "    y = sigmoid(a)\n",
    "    fns.append(y)\n",
    "\n",
    "  W = step(W, D, t, eta=eta, alpha=alpha)\n",
    "\n",
    "  weights.append(W)\n",
    "\n",
    "fns = np.array(fns)\n",
    "weights = np.array(weights)"
   ],
   "execution_count": 31,
   "outputs": []
  },
  {
   "cell_type": "code",
   "metadata": {
    "id": "GXi7snuvR6Xg",
    "colab_type": "code",
    "outputId": "7c192689-cddf-40fb-c67e-c236dcc88cbf",
    "colab": {
     "base_uri": "https://localhost:8080/",
     "height": 831
    }
   },
   "source": [
    "anim = plot_fns_and_weights(fns, weights, idx)\n",
    "HTML(anim.to_html5_video())"
   ],
   "execution_count": 32,
   "outputs": [
    {
     "name": "stderr",
     "output_type": "stream",
     "text": [
      "WARNING:matplotlib.animation:MovieWriter stderr:\n",
      "[libopenh264 @ 0x557261dec300] Incorrect library version loaded\n",
      "Error initializing output stream 0:0 -- Error while opening encoder for output stream #0:0 - maybe incorrect parameters such as bit_rate, rate, width or height\n",
      "\n"
     ]
    },
    {
     "ename": "CalledProcessError",
     "evalue": "Command '['ffmpeg', '-f', 'rawvideo', '-vcodec', 'rawvideo', '-s', '600x600', '-pix_fmt', 'rgba', '-r', '5.0', '-loglevel', 'error', '-i', 'pipe:', '-vcodec', 'h264', '-pix_fmt', 'yuv420p', '-y', '/tmp/tmpgz4cukf8/temp.m4v']' returned non-zero exit status 1.",
     "output_type": "error",
     "traceback": [
      "\u001B[0;31m---------------------------------------------------------------------------\u001B[0m",
      "\u001B[0;31mBrokenPipeError\u001B[0m                           Traceback (most recent call last)",
      "File \u001B[0;32m~/anaconda3/envs/normalizing_flow/lib/python3.8/site-packages/matplotlib/animation.py:233\u001B[0m, in \u001B[0;36mAbstractMovieWriter.saving\u001B[0;34m(self, fig, outfile, dpi, *args, **kwargs)\u001B[0m\n\u001B[1;32m    232\u001B[0m \u001B[38;5;28;01mtry\u001B[39;00m:\n\u001B[0;32m--> 233\u001B[0m     \u001B[38;5;28;01myield\u001B[39;00m \u001B[38;5;28mself\u001B[39m\n\u001B[1;32m    234\u001B[0m \u001B[38;5;28;01mfinally\u001B[39;00m:\n",
      "File \u001B[0;32m~/anaconda3/envs/normalizing_flow/lib/python3.8/site-packages/matplotlib/animation.py:1107\u001B[0m, in \u001B[0;36mAnimation.save\u001B[0;34m(self, filename, writer, fps, dpi, codec, bitrate, extra_args, metadata, extra_anim, savefig_kwargs, progress_callback)\u001B[0m\n\u001B[1;32m   1106\u001B[0m         frame_number \u001B[38;5;241m+\u001B[39m\u001B[38;5;241m=\u001B[39m \u001B[38;5;241m1\u001B[39m\n\u001B[0;32m-> 1107\u001B[0m \u001B[43mwriter\u001B[49m\u001B[38;5;241;43m.\u001B[39;49m\u001B[43mgrab_frame\u001B[49m\u001B[43m(\u001B[49m\u001B[38;5;241;43m*\u001B[39;49m\u001B[38;5;241;43m*\u001B[39;49m\u001B[43msavefig_kwargs\u001B[49m\u001B[43m)\u001B[49m\n",
      "File \u001B[0;32m~/anaconda3/envs/normalizing_flow/lib/python3.8/site-packages/matplotlib/animation.py:359\u001B[0m, in \u001B[0;36mMovieWriter.grab_frame\u001B[0;34m(self, **savefig_kwargs)\u001B[0m\n\u001B[1;32m    358\u001B[0m \u001B[38;5;66;03m# Save the figure data to the sink, using the frame format and dpi.\u001B[39;00m\n\u001B[0;32m--> 359\u001B[0m \u001B[38;5;28;43mself\u001B[39;49m\u001B[38;5;241;43m.\u001B[39;49m\u001B[43mfig\u001B[49m\u001B[38;5;241;43m.\u001B[39;49m\u001B[43msavefig\u001B[49m\u001B[43m(\u001B[49m\u001B[38;5;28;43mself\u001B[39;49m\u001B[38;5;241;43m.\u001B[39;49m\u001B[43m_proc\u001B[49m\u001B[38;5;241;43m.\u001B[39;49m\u001B[43mstdin\u001B[49m\u001B[43m,\u001B[49m\u001B[43m \u001B[49m\u001B[38;5;28;43mformat\u001B[39;49m\u001B[38;5;241;43m=\u001B[39;49m\u001B[38;5;28;43mself\u001B[39;49m\u001B[38;5;241;43m.\u001B[39;49m\u001B[43mframe_format\u001B[49m\u001B[43m,\u001B[49m\n\u001B[1;32m    360\u001B[0m \u001B[43m                 \u001B[49m\u001B[43mdpi\u001B[49m\u001B[38;5;241;43m=\u001B[39;49m\u001B[38;5;28;43mself\u001B[39;49m\u001B[38;5;241;43m.\u001B[39;49m\u001B[43mdpi\u001B[49m\u001B[43m,\u001B[49m\u001B[43m \u001B[49m\u001B[38;5;241;43m*\u001B[39;49m\u001B[38;5;241;43m*\u001B[39;49m\u001B[43msavefig_kwargs\u001B[49m\u001B[43m)\u001B[49m\n",
      "File \u001B[0;32m~/anaconda3/envs/normalizing_flow/lib/python3.8/site-packages/matplotlib/figure.py:3343\u001B[0m, in \u001B[0;36mFigure.savefig\u001B[0;34m(self, fname, transparent, **kwargs)\u001B[0m\n\u001B[1;32m   3340\u001B[0m         stack\u001B[38;5;241m.\u001B[39menter_context(\n\u001B[1;32m   3341\u001B[0m             ax\u001B[38;5;241m.\u001B[39mpatch\u001B[38;5;241m.\u001B[39m_cm_set(facecolor\u001B[38;5;241m=\u001B[39m\u001B[38;5;124m'\u001B[39m\u001B[38;5;124mnone\u001B[39m\u001B[38;5;124m'\u001B[39m, edgecolor\u001B[38;5;241m=\u001B[39m\u001B[38;5;124m'\u001B[39m\u001B[38;5;124mnone\u001B[39m\u001B[38;5;124m'\u001B[39m))\n\u001B[0;32m-> 3343\u001B[0m \u001B[38;5;28;43mself\u001B[39;49m\u001B[38;5;241;43m.\u001B[39;49m\u001B[43mcanvas\u001B[49m\u001B[38;5;241;43m.\u001B[39;49m\u001B[43mprint_figure\u001B[49m\u001B[43m(\u001B[49m\u001B[43mfname\u001B[49m\u001B[43m,\u001B[49m\u001B[43m \u001B[49m\u001B[38;5;241;43m*\u001B[39;49m\u001B[38;5;241;43m*\u001B[39;49m\u001B[43mkwargs\u001B[49m\u001B[43m)\u001B[49m\n",
      "File \u001B[0;32m~/anaconda3/envs/normalizing_flow/lib/python3.8/site-packages/matplotlib/backend_bases.py:2366\u001B[0m, in \u001B[0;36mFigureCanvasBase.print_figure\u001B[0;34m(self, filename, dpi, facecolor, edgecolor, orientation, format, bbox_inches, pad_inches, bbox_extra_artists, backend, **kwargs)\u001B[0m\n\u001B[1;32m   2365\u001B[0m     \u001B[38;5;28;01mwith\u001B[39;00m cbook\u001B[38;5;241m.\u001B[39m_setattr_cm(\u001B[38;5;28mself\u001B[39m\u001B[38;5;241m.\u001B[39mfigure, dpi\u001B[38;5;241m=\u001B[39mdpi):\n\u001B[0;32m-> 2366\u001B[0m         result \u001B[38;5;241m=\u001B[39m \u001B[43mprint_method\u001B[49m\u001B[43m(\u001B[49m\n\u001B[1;32m   2367\u001B[0m \u001B[43m            \u001B[49m\u001B[43mfilename\u001B[49m\u001B[43m,\u001B[49m\n\u001B[1;32m   2368\u001B[0m \u001B[43m            \u001B[49m\u001B[43mfacecolor\u001B[49m\u001B[38;5;241;43m=\u001B[39;49m\u001B[43mfacecolor\u001B[49m\u001B[43m,\u001B[49m\n\u001B[1;32m   2369\u001B[0m \u001B[43m            \u001B[49m\u001B[43medgecolor\u001B[49m\u001B[38;5;241;43m=\u001B[39;49m\u001B[43medgecolor\u001B[49m\u001B[43m,\u001B[49m\n\u001B[1;32m   2370\u001B[0m \u001B[43m            \u001B[49m\u001B[43morientation\u001B[49m\u001B[38;5;241;43m=\u001B[39;49m\u001B[43morientation\u001B[49m\u001B[43m,\u001B[49m\n\u001B[1;32m   2371\u001B[0m \u001B[43m            \u001B[49m\u001B[43mbbox_inches_restore\u001B[49m\u001B[38;5;241;43m=\u001B[39;49m\u001B[43m_bbox_inches_restore\u001B[49m\u001B[43m,\u001B[49m\n\u001B[1;32m   2372\u001B[0m \u001B[43m            \u001B[49m\u001B[38;5;241;43m*\u001B[39;49m\u001B[38;5;241;43m*\u001B[39;49m\u001B[43mkwargs\u001B[49m\u001B[43m)\u001B[49m\n\u001B[1;32m   2373\u001B[0m \u001B[38;5;28;01mfinally\u001B[39;00m:\n",
      "File \u001B[0;32m~/anaconda3/envs/normalizing_flow/lib/python3.8/site-packages/matplotlib/backend_bases.py:2232\u001B[0m, in \u001B[0;36mFigureCanvasBase._switch_canvas_and_return_print_method.<locals>.<lambda>\u001B[0;34m(*args, **kwargs)\u001B[0m\n\u001B[1;32m   2231\u001B[0m     skip \u001B[38;5;241m=\u001B[39m optional_kws \u001B[38;5;241m-\u001B[39m {\u001B[38;5;241m*\u001B[39minspect\u001B[38;5;241m.\u001B[39msignature(meth)\u001B[38;5;241m.\u001B[39mparameters}\n\u001B[0;32m-> 2232\u001B[0m     print_method \u001B[38;5;241m=\u001B[39m functools\u001B[38;5;241m.\u001B[39mwraps(meth)(\u001B[38;5;28;01mlambda\u001B[39;00m \u001B[38;5;241m*\u001B[39margs, \u001B[38;5;241m*\u001B[39m\u001B[38;5;241m*\u001B[39mkwargs: \u001B[43mmeth\u001B[49m\u001B[43m(\u001B[49m\n\u001B[1;32m   2233\u001B[0m \u001B[43m        \u001B[49m\u001B[38;5;241;43m*\u001B[39;49m\u001B[43margs\u001B[49m\u001B[43m,\u001B[49m\u001B[43m \u001B[49m\u001B[38;5;241;43m*\u001B[39;49m\u001B[38;5;241;43m*\u001B[39;49m\u001B[43m{\u001B[49m\u001B[43mk\u001B[49m\u001B[43m:\u001B[49m\u001B[43m \u001B[49m\u001B[43mv\u001B[49m\u001B[43m \u001B[49m\u001B[38;5;28;43;01mfor\u001B[39;49;00m\u001B[43m \u001B[49m\u001B[43mk\u001B[49m\u001B[43m,\u001B[49m\u001B[43m \u001B[49m\u001B[43mv\u001B[49m\u001B[43m \u001B[49m\u001B[38;5;129;43;01min\u001B[39;49;00m\u001B[43m \u001B[49m\u001B[43mkwargs\u001B[49m\u001B[38;5;241;43m.\u001B[39;49m\u001B[43mitems\u001B[49m\u001B[43m(\u001B[49m\u001B[43m)\u001B[49m\u001B[43m \u001B[49m\u001B[38;5;28;43;01mif\u001B[39;49;00m\u001B[43m \u001B[49m\u001B[43mk\u001B[49m\u001B[43m \u001B[49m\u001B[38;5;129;43;01mnot\u001B[39;49;00m\u001B[43m \u001B[49m\u001B[38;5;129;43;01min\u001B[39;49;00m\u001B[43m \u001B[49m\u001B[43mskip\u001B[49m\u001B[43m}\u001B[49m\u001B[43m)\u001B[49m)\n\u001B[1;32m   2234\u001B[0m \u001B[38;5;28;01melse\u001B[39;00m:  \u001B[38;5;66;03m# Let third-parties do as they see fit.\u001B[39;00m\n",
      "File \u001B[0;32m~/anaconda3/envs/normalizing_flow/lib/python3.8/site-packages/matplotlib/backends/backend_agg.py:448\u001B[0m, in \u001B[0;36mFigureCanvasAgg.print_raw\u001B[0;34m(self, filename_or_obj)\u001B[0m\n\u001B[1;32m    447\u001B[0m \u001B[38;5;28;01mwith\u001B[39;00m cbook\u001B[38;5;241m.\u001B[39mopen_file_cm(filename_or_obj, \u001B[38;5;124m\"\u001B[39m\u001B[38;5;124mwb\u001B[39m\u001B[38;5;124m\"\u001B[39m) \u001B[38;5;28;01mas\u001B[39;00m fh:\n\u001B[0;32m--> 448\u001B[0m     \u001B[43mfh\u001B[49m\u001B[38;5;241;43m.\u001B[39;49m\u001B[43mwrite\u001B[49m\u001B[43m(\u001B[49m\u001B[43mrenderer\u001B[49m\u001B[38;5;241;43m.\u001B[39;49m\u001B[43mbuffer_rgba\u001B[49m\u001B[43m(\u001B[49m\u001B[43m)\u001B[49m\u001B[43m)\u001B[49m\n",
      "\u001B[0;31mBrokenPipeError\u001B[0m: [Errno 32] Broken pipe",
      "\nDuring handling of the above exception, another exception occurred:\n",
      "\u001B[0;31mCalledProcessError\u001B[0m                        Traceback (most recent call last)",
      "Cell \u001B[0;32mIn[32], line 2\u001B[0m\n\u001B[1;32m      1\u001B[0m anim \u001B[38;5;241m=\u001B[39m plot_fns_and_weights(fns, weights, idx)\n\u001B[0;32m----> 2\u001B[0m HTML(\u001B[43manim\u001B[49m\u001B[38;5;241;43m.\u001B[39;49m\u001B[43mto_html5_video\u001B[49m\u001B[43m(\u001B[49m\u001B[43m)\u001B[49m)\n",
      "File \u001B[0;32m~/anaconda3/envs/normalizing_flow/lib/python3.8/site-packages/matplotlib/animation.py:1288\u001B[0m, in \u001B[0;36mAnimation.to_html5_video\u001B[0;34m(self, embed_limit)\u001B[0m\n\u001B[1;32m   1284\u001B[0m Writer \u001B[38;5;241m=\u001B[39m writers[mpl\u001B[38;5;241m.\u001B[39mrcParams[\u001B[38;5;124m'\u001B[39m\u001B[38;5;124manimation.writer\u001B[39m\u001B[38;5;124m'\u001B[39m]]\n\u001B[1;32m   1285\u001B[0m writer \u001B[38;5;241m=\u001B[39m Writer(codec\u001B[38;5;241m=\u001B[39m\u001B[38;5;124m'\u001B[39m\u001B[38;5;124mh264\u001B[39m\u001B[38;5;124m'\u001B[39m,\n\u001B[1;32m   1286\u001B[0m                 bitrate\u001B[38;5;241m=\u001B[39mmpl\u001B[38;5;241m.\u001B[39mrcParams[\u001B[38;5;124m'\u001B[39m\u001B[38;5;124manimation.bitrate\u001B[39m\u001B[38;5;124m'\u001B[39m],\n\u001B[1;32m   1287\u001B[0m                 fps\u001B[38;5;241m=\u001B[39m\u001B[38;5;241m1000.\u001B[39m \u001B[38;5;241m/\u001B[39m \u001B[38;5;28mself\u001B[39m\u001B[38;5;241m.\u001B[39m_interval)\n\u001B[0;32m-> 1288\u001B[0m \u001B[38;5;28;43mself\u001B[39;49m\u001B[38;5;241;43m.\u001B[39;49m\u001B[43msave\u001B[49m\u001B[43m(\u001B[49m\u001B[38;5;28;43mstr\u001B[39;49m\u001B[43m(\u001B[49m\u001B[43mpath\u001B[49m\u001B[43m)\u001B[49m\u001B[43m,\u001B[49m\u001B[43m \u001B[49m\u001B[43mwriter\u001B[49m\u001B[38;5;241;43m=\u001B[39;49m\u001B[43mwriter\u001B[49m\u001B[43m)\u001B[49m\n\u001B[1;32m   1289\u001B[0m \u001B[38;5;66;03m# Now open and base64 encode.\u001B[39;00m\n\u001B[1;32m   1290\u001B[0m vid64 \u001B[38;5;241m=\u001B[39m base64\u001B[38;5;241m.\u001B[39mencodebytes(path\u001B[38;5;241m.\u001B[39mread_bytes())\n",
      "File \u001B[0;32m~/anaconda3/envs/normalizing_flow/lib/python3.8/site-packages/matplotlib/animation.py:1107\u001B[0m, in \u001B[0;36mAnimation.save\u001B[0;34m(self, filename, writer, fps, dpi, codec, bitrate, extra_args, metadata, extra_anim, savefig_kwargs, progress_callback)\u001B[0m\n\u001B[1;32m   1105\u001B[0m         progress_callback(frame_number, total_frames)\n\u001B[1;32m   1106\u001B[0m         frame_number \u001B[38;5;241m+\u001B[39m\u001B[38;5;241m=\u001B[39m \u001B[38;5;241m1\u001B[39m\n\u001B[0;32m-> 1107\u001B[0m writer\u001B[38;5;241m.\u001B[39mgrab_frame(\u001B[38;5;241m*\u001B[39m\u001B[38;5;241m*\u001B[39msavefig_kwargs)\n",
      "File \u001B[0;32m~/anaconda3/envs/normalizing_flow/lib/python3.8/contextlib.py:131\u001B[0m, in \u001B[0;36m_GeneratorContextManager.__exit__\u001B[0;34m(self, type, value, traceback)\u001B[0m\n\u001B[1;32m    129\u001B[0m     value \u001B[38;5;241m=\u001B[39m \u001B[38;5;28mtype\u001B[39m()\n\u001B[1;32m    130\u001B[0m \u001B[38;5;28;01mtry\u001B[39;00m:\n\u001B[0;32m--> 131\u001B[0m     \u001B[38;5;28;43mself\u001B[39;49m\u001B[38;5;241;43m.\u001B[39;49m\u001B[43mgen\u001B[49m\u001B[38;5;241;43m.\u001B[39;49m\u001B[43mthrow\u001B[49m\u001B[43m(\u001B[49m\u001B[38;5;28;43mtype\u001B[39;49m\u001B[43m,\u001B[49m\u001B[43m \u001B[49m\u001B[43mvalue\u001B[49m\u001B[43m,\u001B[49m\u001B[43m \u001B[49m\u001B[43mtraceback\u001B[49m\u001B[43m)\u001B[49m\n\u001B[1;32m    132\u001B[0m \u001B[38;5;28;01mexcept\u001B[39;00m \u001B[38;5;167;01mStopIteration\u001B[39;00m \u001B[38;5;28;01mas\u001B[39;00m exc:\n\u001B[1;32m    133\u001B[0m     \u001B[38;5;66;03m# Suppress StopIteration *unless* it's the same exception that\u001B[39;00m\n\u001B[1;32m    134\u001B[0m     \u001B[38;5;66;03m# was passed to throw().  This prevents a StopIteration\u001B[39;00m\n\u001B[1;32m    135\u001B[0m     \u001B[38;5;66;03m# raised inside the \"with\" statement from being suppressed.\u001B[39;00m\n\u001B[1;32m    136\u001B[0m     \u001B[38;5;28;01mreturn\u001B[39;00m exc \u001B[38;5;129;01mis\u001B[39;00m \u001B[38;5;129;01mnot\u001B[39;00m value\n",
      "File \u001B[0;32m~/anaconda3/envs/normalizing_flow/lib/python3.8/site-packages/matplotlib/animation.py:235\u001B[0m, in \u001B[0;36mAbstractMovieWriter.saving\u001B[0;34m(self, fig, outfile, dpi, *args, **kwargs)\u001B[0m\n\u001B[1;32m    233\u001B[0m     \u001B[38;5;28;01myield\u001B[39;00m \u001B[38;5;28mself\u001B[39m\n\u001B[1;32m    234\u001B[0m \u001B[38;5;28;01mfinally\u001B[39;00m:\n\u001B[0;32m--> 235\u001B[0m     \u001B[38;5;28;43mself\u001B[39;49m\u001B[38;5;241;43m.\u001B[39;49m\u001B[43mfinish\u001B[49m\u001B[43m(\u001B[49m\u001B[43m)\u001B[49m\n",
      "File \u001B[0;32m~/anaconda3/envs/normalizing_flow/lib/python3.8/site-packages/matplotlib/animation.py:349\u001B[0m, in \u001B[0;36mMovieWriter.finish\u001B[0;34m(self)\u001B[0m\n\u001B[1;32m    345\u001B[0m     _log\u001B[38;5;241m.\u001B[39mlog(\n\u001B[1;32m    346\u001B[0m         logging\u001B[38;5;241m.\u001B[39mWARNING \u001B[38;5;28;01mif\u001B[39;00m \u001B[38;5;28mself\u001B[39m\u001B[38;5;241m.\u001B[39m_proc\u001B[38;5;241m.\u001B[39mreturncode \u001B[38;5;28;01melse\u001B[39;00m logging\u001B[38;5;241m.\u001B[39mDEBUG,\n\u001B[1;32m    347\u001B[0m         \u001B[38;5;124m\"\u001B[39m\u001B[38;5;124mMovieWriter stderr:\u001B[39m\u001B[38;5;130;01m\\n\u001B[39;00m\u001B[38;5;132;01m%s\u001B[39;00m\u001B[38;5;124m\"\u001B[39m, err)\n\u001B[1;32m    348\u001B[0m \u001B[38;5;28;01mif\u001B[39;00m \u001B[38;5;28mself\u001B[39m\u001B[38;5;241m.\u001B[39m_proc\u001B[38;5;241m.\u001B[39mreturncode:\n\u001B[0;32m--> 349\u001B[0m     \u001B[38;5;28;01mraise\u001B[39;00m subprocess\u001B[38;5;241m.\u001B[39mCalledProcessError(\n\u001B[1;32m    350\u001B[0m         \u001B[38;5;28mself\u001B[39m\u001B[38;5;241m.\u001B[39m_proc\u001B[38;5;241m.\u001B[39mreturncode, \u001B[38;5;28mself\u001B[39m\u001B[38;5;241m.\u001B[39m_proc\u001B[38;5;241m.\u001B[39margs, out, err)\n",
      "\u001B[0;31mCalledProcessError\u001B[0m: Command '['ffmpeg', '-f', 'rawvideo', '-vcodec', 'rawvideo', '-s', '600x600', '-pix_fmt', 'rgba', '-r', '5.0', '-loglevel', 'error', '-i', 'pipe:', '-vcodec', 'h264', '-pix_fmt', 'yuv420p', '-y', '/tmp/tmpgz4cukf8/temp.m4v']' returned non-zero exit status 1."
     ]
    },
    {
     "data": {
      "text/plain": "<Figure size 1200x600 with 2 Axes>",
      "image/png": "[encoded data removed]"
     },
     "metadata": {},
     "output_type": "display_data"
    }
   ]
  },
  {
   "cell_type": "markdown",
   "metadata": {
    "id": "o39KgvQYMNQF",
    "colab_type": "text"
   },
   "source": [
    "# Bayesian inference over weights"
   ]
  },
  {
   "cell_type": "markdown",
   "metadata": {
    "id": "_qZzmEqz0N1g",
    "colab_type": "text"
   },
   "source": [
    "### Langevin Monte Carlo method - *MCMC Hammer*\n",
    "\n",
    "With a Monte Carlo method, we aim to draw $K$ credible samples from the posterior distribution, then estimating the marginal likelihood as the average of the outputs generated by the function using the sampled parameters.\n",
    "\n",
    "$$\n",
    "\\begin{aligned}\n",
    "P(y_{N+1} = 1 | \\mathbf{x}_{N+1}, D) &\\approx \\frac{1}{K} \\sum_{k=1}^{K} P(y_{N+1} = 1 | \\mathbf{x}_{N+1}, \\mathbf{w}_k, D) \\\\\n",
    "                                   &= \\frac{1}{K} \\sum_{k=1}^{K} f_{\\text{nn}}(\\mathbf{x} ; \\mathbf{w}_k)\n",
    "\\end{aligned}\n",
    "$$\n",
    "\n",
    "The first example here is a Markov Chain Monte Carlo approach using Langevin sampling, where for each step we perform batch gradient descent and add a bit of noise to it. The Langevin Monte Carlo method is a special case of Hamiltonian Monte Carlo. An acceptance rule (Metropolis Hastings) is used to decide whether to accept or reject each proposed step we take, and we take samples once every few steps to reduce correlation between the drawn samples.\n",
    "\n",
    "So now we've obtained $K$ samples of the weight vector from the Monte Carlo method and we can average across all the different predictions made using each of them. Below we show each of the 30 sampled classifiers (produced by the sampled weights) we obtained from our Langevin Monte Carlo method - some of them similar to the trained classifier we had before, some of them less so."
   ]
  },
  {
   "cell_type": "code",
   "metadata": {
    "id": "DROPyC02ncya",
    "colab_type": "code",
    "colab": {},
    "ExecuteTime": {
     "start_time": "2023-04-20T11:26:07.300972Z",
     "end_time": "2023-04-20T11:26:10.166688Z"
    }
   },
   "source": [
    "@jit\n",
    "def loss(W, D, t, alpha):\n",
    "  return bce_loss(W, D, t) + alpha * regularization_loss(W)\n",
    "\n",
    "@jit\n",
    "def step(W, dW, M, k1):\n",
    "  p = random.normal(k1, (3,))\n",
    "  H = (p ** 2).sum() / 2 + M\n",
    "  \n",
    "  # For Hamiltonian Monte Carlo, run the following 4 lines for tau iterations, \n",
    "  # tau > 1\n",
    "  p = p - epsilon / 2 * dW\n",
    "  new_W = W + epsilon * p\n",
    "  new_dW = grad(loss)(new_W, D, t, alpha=alpha)\n",
    "  p = p - epsilon / 2 * new_dW\n",
    "\n",
    "  new_M = loss(new_W, D, t, alpha=alpha)\n",
    "  new_H = (p ** 2).sum() / 2 + new_M\n",
    "\n",
    "  dH = new_H - H\n",
    "\n",
    "  return dH, new_W, new_dW, new_M, k1\n",
    "\n",
    "eta = 0.02\n",
    "epsilon = np.sqrt(2 * eta)\n",
    "alpha = 0.01\n",
    "W = random.normal(key, (3,)) * 0.25\n",
    "idx = []\n",
    "fns = []\n",
    "weights = []\n",
    "k0 = 2000\n",
    "\n",
    "accepts = 0\n",
    "M = loss(W, D, t, alpha=alpha)\n",
    "dW = - grad(loss)(W, D, t, alpha=alpha)\n",
    "\n",
    "k1, k2 = random.split(key)\n",
    "\n",
    "for k in range(10001):\n",
    "  k1, k2 = random.split(k1)\n",
    "  dH, new_W, new_dW, new_M, k1 = step(W, dW, M, k1)\n",
    "\n",
    "  if (dH < 0) or (random.uniform(k2) < np.exp(-dH)):\n",
    "    accepts += 1\n",
    "    W = new_W\n",
    "    M = new_M\n",
    "    dW = new_dW\n",
    "\n",
    "  if (k > k0 and k % 100 == 0):\n",
    "    weights.append(W)\n",
    "    a = np.dot(Zd, W)\n",
    "    y = sigmoid(a)\n",
    "    fns.append(y)\n",
    "    idx.append(k)\n",
    "\n",
    "fns = np.array(fns)\n",
    "weights = np.array(weights)"
   ],
   "execution_count": 33,
   "outputs": []
  },
  {
   "cell_type": "code",
   "metadata": {
    "id": "R1Z1ZONuRzcU",
    "colab_type": "code",
    "outputId": "ada709c2-d5fb-46e9-8449-475a462204e8",
    "colab": {
     "base_uri": "https://localhost:8080/",
     "height": 831
    }
   },
   "source": [
    "anim = plot_fns_and_weights(fns, weights, idx)\n",
    "HTML(anim.to_html5_video())"
   ],
   "execution_count": null,
   "outputs": []
  },
  {
   "cell_type": "markdown",
   "metadata": {
    "id": "jAhXFvnn9nja",
    "colab_type": "text"
   },
   "source": [
    "Averaging across all of these sampled functions, we obtain a marginal likelihood classifier that looks very different from before:"
   ]
  },
  {
   "cell_type": "code",
   "metadata": {
    "id": "Zg3uGyulwHcA",
    "colab_type": "code",
    "outputId": "bdec53b5-d793-48fb-8fcc-2ec4de1cee6a",
    "colab": {
     "base_uri": "https://localhost:8080/",
     "height": 521
    }
   },
   "source": [
    "Z = fns.mean(axis=0)\n",
    "plt.figure(figsize=(8, 8))\n",
    "_ = plt.contour(x_range, y_range, Z, origin='lower',\n",
    "                cmap=cm.viridis, vmin=0, vmax=1)\n",
    "plt.scatter(D1[:, 0], D1[:, 1])\n",
    "plt.scatter(D2[:, 0], D2[:, 1])\n",
    "plt.xlabel('$x_1$')\n",
    "plt.ylabel('$x_2$')"
   ],
   "execution_count": null,
   "outputs": []
  },
  {
   "cell_type": "markdown",
   "metadata": {
    "id": "8bkZqq-W9jz6",
    "colab_type": "text"
   },
   "source": [
    "Another question one might ask is: since each weight vector corresponds to a function represented by the output of the neural net, doesn't that mean there's a whole distribution of functions as well?"
   ]
  },
  {
   "cell_type": "code",
   "metadata": {
    "id": "dS1XyIHAn-Ix",
    "colab_type": "code",
    "outputId": "cba36213-a97f-4448-c6c7-46d1597a99c2",
    "colab": {
     "base_uri": "https://localhost:8080/",
     "height": 521
    }
   },
   "source": [
    "Z = fns.std(axis=0)\n",
    "plt.figure(figsize=(8, 8))\n",
    "_ = plt.contour(x_range, y_range, Z, origin='lower',\n",
    "                cmap=cm.viridis)\n",
    "plt.scatter(D1[:, 0], D1[:, 1])\n",
    "plt.scatter(D2[:, 0], D2[:, 1])\n",
    "plt.xlabel('$x_1$')\n",
    "plt.ylabel('$x_2$')"
   ],
   "execution_count": null,
   "outputs": []
  },
  {
   "cell_type": "markdown",
   "metadata": {
    "id": "oI8H7WCY0Sc6",
    "colab_type": "text"
   },
   "source": [
    "### Laplace's method - *Tame your expectations*\n",
    "\n",
    "The implementation in this subsection is based from Section 41.5 from [David's textbook](http://www.inference.org.uk/mackay/itprnn/book.html) (pg. 501).\n",
    "\n",
    "With Laplace's method, we model the posterior distribution as a multivariate Gaussian distribution with its mean at the MAP estimate $\\mathbf{w}_{\\text{MAP}}$ (which is the $\\mathbf{w}$ we found using the regularised optimisation) and its covariance matrix calculated as the inverse of the Hessian $H$ at $\\mathbf{w}_{\\text{MAP}}$.\n",
    "\n",
    "$$\n",
    "\\begin{aligned}\n",
    "          P(\\mathbf{w} | D) &\\approx Q(\\mathbf{w} | \\theta) \\\\\n",
    "     Q(\\mathbf{w} | \\theta) &= \\text{Normal}(\\mathbf{w}_{\\text{MAP}}, H^{-1}) \\\\\n",
    "\\text{where} \\quad \\theta &= \\{ \\mathbf{w}_{\\text{MAP}}, H^{-1} \\}\n",
    "\\end{aligned}\n",
    "$$"
   ]
  },
  {
   "cell_type": "code",
   "metadata": {
    "colab_type": "code",
    "id": "X12iYaD00jd2",
    "colab": {}
   },
   "source": [
    "eta = 0.02\n",
    "alpha = 0.01\n",
    "W = random.normal(key, (3,)) * 0.25\n",
    "idx = []\n",
    "fns = []\n",
    "weights = []\n",
    "\n",
    "\n",
    "@jit\n",
    "def loss(W, D, t, alpha):\n",
    "  return bce_loss(W, D, t) + alpha * regularization_loss(W)\n",
    "\n",
    "\n",
    "@jit\n",
    "def step(W, D, t, eta=0.02, alpha=0.01):\n",
    "  dW = grad(loss)(W, D, t, alpha=alpha)\n",
    "  W = W - eta * dW\n",
    "\n",
    "  return W\n",
    "\n",
    "\n",
    "for k in range(10001):\n",
    "  W = step(W, D, t, eta=eta, alpha=alpha)\n",
    "\n",
    "W_MAP = W"
   ],
   "execution_count": null,
   "outputs": []
  },
  {
   "cell_type": "code",
   "metadata": {
    "id": "2IVYNv2hRmQR",
    "colab_type": "code",
    "colab": {}
   },
   "source": [
    "from jax import jacfwd, jacrev  # forward and reverse-mode\n",
    "\n",
    "def hessian(fun):\n",
    "  return jit(jacfwd(jacrev(fun)))  # jit!\n",
    "\n",
    "hess = hessian(loss)(W_MAP, D, t, 0.01)\n",
    "Sigma = np.linalg.inv(hess)"
   ],
   "execution_count": null,
   "outputs": []
  },
  {
   "cell_type": "code",
   "metadata": {
    "id": "xXWlHLSW4GUy",
    "colab_type": "code",
    "outputId": "64051bf9-bce0-4787-86dd-4b3943ecaab2",
    "colab": {
     "base_uri": "https://localhost:8080/",
     "height": 68
    }
   },
   "source": [
    "print(Sigma)"
   ],
   "execution_count": null,
   "outputs": []
  },
  {
   "cell_type": "markdown",
   "metadata": {
    "id": "vaJA9QmM9Jdw",
    "colab_type": "text"
   },
   "source": [
    "The marginal likelihood under $Q$ can be approximated in closed form using an approximation of the integral of a sigmoid multiplied with a Gaussian. Note that this is now an approximation of an approximation.\n",
    "\n",
    "$$\n",
    "\\begin{aligned}\n",
    "P(y_{N+1}|\\mathbf{x}_{N+1}, D) &\\approx \\int P(y_{N+1}|\\mathbf{x}_{N+1}, \\mathbf{w}, D) Q(\\mathbf{w}| \\theta) \\, d\\mathbf{w} \\\\\n",
    "                             &\\approx \\sigma(\\kappa(s) \\mathbf{w}_\\text{MAP}^T \\mathbf{x}_{N+1}) \\\\\n",
    "\\text{where} \\quad \\kappa(s) &= \\frac{1}{\\sqrt{1+\\pi s^2 / 8}} \\\\\n",
    "                         s^2 &= \\mathbf{x}_{N+1}^T H^{-1} \\mathbf{x}_{N+1}\n",
    "\\end{aligned}\n",
    "$$\n",
    "\n",
    "Using the marginal likelihood approximation, we obtain the classifier below, which is similar to the Monte Carlo method we showed before."
   ]
  },
  {
   "cell_type": "code",
   "metadata": {
    "id": "1SwBCHlkZZn8",
    "colab_type": "code",
    "outputId": "a7634b58-b2ca-43c5-cd0f-2469e67b71af",
    "colab": {
     "base_uri": "https://localhost:8080/",
     "height": 504
    }
   },
   "source": [
    "# Approximation method for inference\n",
    "kappa = (Zd.dot(Sigma) * Zd).sum(2)\n",
    "kappa = 1 / (1 + np.pi * kappa / 8) ** 0.5\n",
    "\n",
    "a = np.dot(Zd, W_MAP) * kappa\n",
    "Z = sigmoid(a)\n",
    "\n",
    "\n",
    "plt.figure(figsize=(8, 8))\n",
    "_ = plt.contour(x_range, y_range, Z, origin='lower',\n",
    "                cmap=cm.viridis, vmin=0, vmax=1)\n",
    "plt.scatter(D1[:, 0], D1[:, 1])\n",
    "plt.scatter(D2[:, 0], D2[:, 1])\n",
    "_ = plt.xlabel('$x_1$')\n",
    "_ = plt.ylabel('$x_2$')"
   ],
   "execution_count": null,
   "outputs": []
  },
  {
   "cell_type": "markdown",
   "metadata": {
    "id": "FFkh5guq9AP5",
    "colab_type": "text"
   },
   "source": [
    "In general we're not so lucky to have a closed-form solution or approximation to our approximate marginal likelihood. Nonetheless, since we have an explicit model of $Q$, we can also sample from $Q$ and obtain individual sampled functions like before from the LMC method:"
   ]
  },
  {
   "cell_type": "code",
   "metadata": {
    "id": "t0uzgUcgt4wV",
    "colab_type": "code",
    "outputId": "2e02194d-576b-4724-f3fd-e51b30968d3d",
    "colab": {
     "base_uri": "https://localhost:8080/",
     "height": 831
    }
   },
   "source": [
    "# Monte Carlo method for inference\n",
    "K_inference = 30\n",
    "sigma = np.linalg.cholesky(Sigma)\n",
    "\n",
    "k1, k2 = random.split(key)\n",
    "eps = random.normal(k1, (K_inference, 3))\n",
    "\n",
    "W = W_MAP + vmap(sigma.dot)(eps)\n",
    "\n",
    "partial_func = partial(lambda e: np.dot(Zd, e))\n",
    "\n",
    "a = vmap(partial_func)(W)\n",
    "fns = sigmoid(a)\n",
    "\n",
    "anim = plot_fns_and_weights(fns, W, range(len(fns)))\n",
    "HTML(anim.to_html5_video())"
   ],
   "execution_count": null,
   "outputs": []
  },
  {
   "cell_type": "markdown",
   "metadata": {
    "id": "uiuaX08J88e0",
    "colab_type": "text"
   },
   "source": [
    "And in the function space, if we plot out the mean and standard deviations, we obtain diagrams that look similar to what we obtained from the closed-form approximations."
   ]
  },
  {
   "cell_type": "code",
   "metadata": {
    "id": "8jtFeaF0un6m",
    "colab_type": "code",
    "outputId": "1bb5c5a9-97d7-4fb3-ad90-48f76b314200",
    "colab": {
     "base_uri": "https://localhost:8080/",
     "height": 504
    }
   },
   "source": [
    "Z = fns.mean(0)\n",
    "plt.figure(figsize=(8, 8))\n",
    "_ = plt.contour(x_range, y_range, Z, origin='lower',\n",
    "                cmap=cm.viridis, vmin=0, vmax=1)\n",
    "plt.scatter(D1[:, 0], D1[:, 1])\n",
    "plt.scatter(D2[:, 0], D2[:, 1])\n",
    "_ = plt.xlabel('$x_1$')\n",
    "_ = plt.ylabel('$x_2$')"
   ],
   "execution_count": null,
   "outputs": []
  },
  {
   "cell_type": "code",
   "metadata": {
    "id": "Toe_K0zRuEfM",
    "colab_type": "code",
    "outputId": "b2ab77d4-2abd-4101-9adf-8240f14c5e06",
    "colab": {
     "base_uri": "https://localhost:8080/",
     "height": 521
    }
   },
   "source": [
    "Z = fns.std(axis=0)\n",
    "plt.figure(figsize=(8, 8))\n",
    "_ = plt.contour(x_range, y_range, Z, origin='lower',\n",
    "                cmap=cm.viridis)\n",
    "plt.scatter(D1[:, 0], D1[:, 1])\n",
    "plt.scatter(D2[:, 0], D2[:, 1])\n",
    "plt.xlabel('$x_1$')\n",
    "plt.ylabel('$x_2$')"
   ],
   "execution_count": null,
   "outputs": []
  },
  {
   "cell_type": "markdown",
   "metadata": {
    "id": "vdBCInIG0VKB",
    "colab_type": "text"
   },
   "source": [
    "### Variational Free Energy method - *VI-ing for attention*\n",
    "\n",
    "In this final example for the classifier, we use a variational inference method to, again, approximate the posterior distribution. The difference here is that the approximate distribution is reached by minimising the distance between the proposal distribution with the true posterior distribution according to some distance measure. A common distance metric is the forward KL-divergence, which is an asymmetric measure (hence \"forward\" vs \"backward\"). Note that this is related to, but not the same as, Variational Autoencoders, though one could argue that variational inference is popular nowadays because of VAEs.\n",
    "\n",
    "$$\n",
    "\\begin{aligned}\n",
    "\\text{KL}(Q \\, || \\, P) = \\mathbb{E}_{Q} \\bigg[ \\log\\bigg( \\frac{Q}{P} \\bigg) \\bigg]\n",
    "\\end{aligned}\n",
    "$$\n",
    "\n",
    "In our case, we can derive the following:\n",
    "\n",
    "$$\n",
    "\\begin{aligned}\n",
    "\\text{KL}(Q(\\mathbf{w} | \\theta) \\, || \\, P(\\mathbf{w} | D)) &= \\int Q(\\mathbf{w} | \\theta) \\log \\bigg( \\frac{Q(\\mathbf{w} | \\theta)}{P(\\mathbf{w} | D)} \\bigg) d\\mathbf{w} \\\\\n",
    "&= \\int Q(\\mathbf{w} | \\theta) \\log \\bigg( \\frac{Q(\\mathbf{w} | \\theta)}{ e^{M(\\mathbf{w})} } \\bigg) d\\mathbf{w} + \\log(Z) \\\\\n",
    "&= \\underbrace{ \\mathbb{E}_{Q(\\mathbf{w} | \\theta)} [\\log(Q(\\mathbf{w} | \\theta))] - \\int Q(\\mathbf{w} | \\theta) M(\\mathbf{w}) \\, d\\mathbf{w} }_\\text{Variational Free Energy/Evidence Lower Bound} + \\log(Z)\n",
    "\\end{aligned}\n",
    "$$\n",
    "\n",
    "such that the first two term together (and its variants) are called the Variational Free Energy (VFE), comprising of the entropy of $Q$ in addition to the negative expected total energy under $Q$. $\\theta$ again represents the parameters of the multivariate Gaussian distribution. The Variational Free Energy is also known as the Evidence Lower Bound (ELBO), as it gives us a bound on $\\log(Z)$ and therefore $P(D)$, since a KL divergence is always non-negative.\n",
    "\n",
    "Alternatively the VFE/ELBO can be rearranged and expressed as:\n",
    "\n",
    "$$\n",
    "\\text{ELBO} = \\text{KL}(Q(\\mathbf{w} | \\theta) \\, || \\, P(\\mathbf{w})) - \\mathbb{E}_{Q(\\mathbf{w} | \\theta)} [ \\log(P(D | \\mathbf{w})) ]\n",
    "$$\n",
    "\n",
    "i.e. the KL-divergence between the proposed distribution $Q$ and the prior $P(\\mathbf{w})$, and the expected negative log-likelihood under $Q$.\n",
    "\n",
    "The bad news is that with a Gaussian distrbution, the second term (the expectation) in the VFE/ELBO in both the first and second form is generally intractable, so we resort to estimation methods once again. One such \"modern\" method - Bayes by Backprop - is described in [Blundell et al (2015)](https://arxiv.org/pdf/1505.05424.pdf), making use of the reparametrisation trick introduced in [Kingma and Welling, 2014](https://arxiv.org/pdf/1312.6114.pdf) and [Rezende et al, 2014](https://arxiv.org/pdf/1401.4082.pdf). It is a Monte Carlo based method that iteratively updates the $Q$ distribution parameters $\\theta$ (this is different from \"model training\", despite the practical similarities).\n",
    "\n",
    "Bayes by Backprop was implemented by modelling the posterior distribution as a multivariate Gaussian with a diagonal covariance matrix. If we approximate the marginal likelihood by drawing samples from the $Q$ distribution and plotting the function space mean and standard deviations using these samples, we get the results below.\n"
   ]
  },
  {
   "cell_type": "code",
   "metadata": {
    "colab_type": "code",
    "id": "e4UiTBKP8Iq1",
    "colab": {}
   },
   "source": [
    "eta = 0.02\n",
    "alpha = 0.01\n",
    "K = 10 # Number of Monte Carlo samples\n",
    "\n",
    "k1, k2 = random.split(key)\n",
    "theta = random.normal(k1, (6,))\n",
    "idx = []\n",
    "fns = []\n",
    "weights = []\n",
    "\n",
    "\n",
    "@jit\n",
    "def map_loss(W, D, t, alpha):\n",
    "  return bce_loss(W, D, t) + alpha * regularization_loss(W)\n",
    "\n",
    "\n",
    "@jit\n",
    "def vi_loss(theta, eps, D, t, alpha):\n",
    "  mu = theta[:3]\n",
    "  log_sigma = theta[3:]\n",
    "  sigma = np.exp(log_sigma)\n",
    "  W = mu + eps * sigma\n",
    "  errors = map_loss(W, D, t, alpha)\n",
    "\n",
    "  return errors\n",
    "\n",
    "@jit\n",
    "def KL_loss(theta):\n",
    "  log_sigma = theta[3:]\n",
    "  return - (log_sigma).sum()\n",
    "\n",
    "@jit\n",
    "def step(theta, D, t, k1, eta=0.02, alpha=0.01):\n",
    "  eps = random.normal(k1, (K, 3))\n",
    "\n",
    "  partial_loss_func = partial(lambda e: grad(vi_loss)(theta, e, D=D, t=t, alpha=alpha))\n",
    "\n",
    "  dtheta = np.nanmean(vmap(partial_loss_func)(eps), 0)\n",
    "\n",
    "  d_KL_theta = grad(KL_loss)(theta)\n",
    "\n",
    "  theta = theta - eta * (dtheta + d_KL_theta)\n",
    "\n",
    "  return theta\n",
    "\n",
    "for k in range(10001):\n",
    "  k1, k2 = random.split(k1)\n",
    "\n",
    "  theta = step(theta, D, t, k1, eta=eta, alpha=alpha)"
   ],
   "execution_count": null,
   "outputs": []
  },
  {
   "cell_type": "code",
   "metadata": {
    "id": "Nk8j-NYSqdr5",
    "colab_type": "code",
    "outputId": "f1c86765-d7c7-40b9-be19-9cfe7bb4c968",
    "colab": {
     "base_uri": "https://localhost:8080/",
     "height": 51
    }
   },
   "source": [
    "print(theta)"
   ],
   "execution_count": null,
   "outputs": []
  },
  {
   "cell_type": "code",
   "metadata": {
    "id": "YvqMyiyvdXBD",
    "colab_type": "code",
    "outputId": "5fcc57a2-e819-46e7-a2e1-6a146f341b4c",
    "colab": {
     "base_uri": "https://localhost:8080/",
     "height": 504
    }
   },
   "source": [
    "# Approximation method\n",
    "mu = theta[:3]\n",
    "log_sigma = theta[3:]\n",
    "Sigma = np.diag(np.exp(log_sigma * 2))\n",
    "\n",
    "kappa = (Zd.dot(Sigma) * Zd).sum(2)\n",
    "kappa = 1 / (1 + np.pi * kappa / 8) ** 0.5\n",
    "\n",
    "a = np.dot(Zd, mu) * kappa\n",
    "Z = sigmoid(a)\n",
    "\n",
    "plt.figure(figsize=(8, 8))\n",
    "_ = plt.contour(x_range, y_range, Z, origin='lower',\n",
    "                cmap=cm.viridis, vmin=0, vmax=1)\n",
    "plt.scatter(D1[:, 0], D1[:, 1])\n",
    "plt.scatter(D2[:, 0], D2[:, 1])\n",
    "_ = plt.xlabel('$x_1$')\n",
    "_ = plt.ylabel('$x_2$')"
   ],
   "execution_count": null,
   "outputs": []
  },
  {
   "cell_type": "markdown",
   "metadata": {
    "id": "KHlB-aMl8o9Q",
    "colab_type": "text"
   },
   "source": [
    "And you might well say \"oh dear, this isn't what we expected\". The standard deviation diagram suggests that the classifier is still \"curved\", but not nearly as much as we saw in the Langevin method or Laplace's method. What we can also do is compare the distribution we've produced using the variational method against what we obtained from Laplace's method.\n",
    "\n",
    "If we print out the covariance matrix, we can see where the problem might be coming from. The covariance matrix from Laplace's method captures significant off-diagonal covariance values between the weights, while this information is lost when we assume independence between the each of the values in the weight vectors."
   ]
  },
  {
   "cell_type": "code",
   "metadata": {
    "id": "VisesHLp3Zhq",
    "colab_type": "code",
    "outputId": "6aaec68e-af66-4bbb-9a81-1f0d05cef08a",
    "colab": {
     "base_uri": "https://localhost:8080/",
     "height": 68
    }
   },
   "source": [
    "  print(Sigma)"
   ],
   "execution_count": null,
   "outputs": []
  },
  {
   "cell_type": "markdown",
   "metadata": {
    "id": "IR4YVCxT83oi",
    "colab_type": "text"
   },
   "source": [
    "This means that when we apply the independence assumption to the dimensions in our weights, we should do so carefully and consider whether it's a good approximation to make or not."
   ]
  },
  {
   "cell_type": "code",
   "metadata": {
    "id": "YEOFOo0Yv7DY",
    "colab_type": "code",
    "outputId": "9f92085d-7ce1-4df1-9670-5467190b8ee9",
    "colab": {
     "base_uri": "https://localhost:8080/",
     "height": 831
    }
   },
   "source": [
    "# Monte Carlo method for inference\n",
    "K_inference = 30\n",
    "sigma = np.exp(log_sigma)\n",
    "\n",
    "k1, k2 = random.split(key)\n",
    "eps = random.normal(k1, (K_inference, 3))\n",
    "\n",
    "partial_func = partial(lambda e: np.multiply(sigma, e))\n",
    "W = mu + vmap(partial_func)(eps)\n",
    "\n",
    "partial_func = partial(lambda e: np.dot(Zd, e))\n",
    "\n",
    "a = vmap(partial_func)(W)\n",
    "fns = sigmoid(a)\n",
    "\n",
    "anim = plot_fns_and_weights(fns, W, range(len(fns)))\n",
    "HTML(anim.to_html5_video())"
   ],
   "execution_count": null,
   "outputs": []
  },
  {
   "cell_type": "code",
   "metadata": {
    "id": "OTaKNo6Tw_oL",
    "colab_type": "code",
    "outputId": "c8f4142f-6faf-4863-e8dc-70ffd6d9cdac",
    "colab": {
     "base_uri": "https://localhost:8080/",
     "height": 504
    }
   },
   "source": [
    "Z = fns.mean(0)\n",
    "plt.figure(figsize=(8, 8))\n",
    "_ = plt.contour(x_range, y_range, Z, origin='lower',\n",
    "                cmap=cm.viridis, vmin=0, vmax=1)\n",
    "plt.scatter(D1[:, 0], D1[:, 1])\n",
    "plt.scatter(D2[:, 0], D2[:, 1])\n",
    "_ = plt.xlabel('$x_1$')\n",
    "_ = plt.ylabel('$x_2$')"
   ],
   "execution_count": null,
   "outputs": []
  },
  {
   "cell_type": "code",
   "metadata": {
    "id": "HaUes6tkxBRu",
    "colab_type": "code",
    "outputId": "d73f7b29-25af-4f73-ab37-480121879de6",
    "colab": {
     "base_uri": "https://localhost:8080/",
     "height": 504
    }
   },
   "source": [
    "Z_std = fns.std(axis=0)\n",
    "plt.figure(figsize=(8, 8))\n",
    "_ = plt.contour(x_range, y_range, Z_std, origin='lower',\n",
    "                cmap=cm.viridis, vmin=0, vmax=1)\n",
    "plt.scatter(D1[:, 0], D1[:, 1])\n",
    "plt.scatter(D2[:, 0], D2[:, 1])\n",
    "_ = plt.xlabel('$x_1$')\n",
    "_ = plt.ylabel('$x_2$')"
   ],
   "execution_count": null,
   "outputs": []
  },
  {
   "cell_type": "code",
   "metadata": {
    "id": "a93MOpQmpfOM",
    "colab_type": "code",
    "colab": {}
   },
   "source": [],
   "execution_count": null,
   "outputs": []
  }
 ]
}
